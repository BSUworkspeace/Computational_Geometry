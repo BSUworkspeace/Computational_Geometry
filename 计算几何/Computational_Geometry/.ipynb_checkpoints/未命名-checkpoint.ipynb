{
 "cells": [
  {
   "cell_type": "code",
   "execution_count": 2,
   "id": "ba8bd71c",
   "metadata": {},
   "outputs": [],
   "source": [
    "import numpy as np"
   ]
  },
  {
   "cell_type": "code",
   "execution_count": 4,
   "id": "09b23f86",
   "metadata": {},
   "outputs": [],
   "source": [
    "\n",
    "rightlist =np.array( [10,9,8,7,5])\n",
    "leftlist=np.array([1,2,3,4,5])"
   ]
  },
  {
   "cell_type": "code",
   "execution_count": 6,
   "id": "447fdafd",
   "metadata": {},
   "outputs": [],
   "source": [
    "a=rightlist-leftlist"
   ]
  },
  {
   "cell_type": "code",
   "execution_count": 15,
   "id": "e8eb5fe7",
   "metadata": {},
   "outputs": [
    {
     "data": {
      "text/plain": [
       "array([9, 7, 5, 3, 0])"
      ]
     },
     "execution_count": 15,
     "metadata": {},
     "output_type": "execute_result"
    }
   ],
   "source": [
    "a"
   ]
  },
  {
   "cell_type": "code",
   "execution_count": 14,
   "id": "4e12612f",
   "metadata": {},
   "outputs": [
    {
     "data": {
      "text/plain": [
       "array([2, 2, 2, 3, 0])"
      ]
     },
     "execution_count": 14,
     "metadata": {},
     "output_type": "execute_result"
    }
   ],
   "source": [
    "a-np.append(a[1:],0)"
   ]
  },
  {
   "cell_type": "code",
   "execution_count": null,
   "id": "c2b7057b",
   "metadata": {},
   "outputs": [],
   "source": [
    "1,1*n,1*n"
   ]
  },
  {
   "cell_type": "code",
   "execution_count": null,
   "id": "0606a21c",
   "metadata": {},
   "outputs": [],
   "source": []
  },
  {
   "cell_type": "code",
   "execution_count": null,
   "id": "b739970a",
   "metadata": {},
   "outputs": [],
   "source": []
  },
  {
   "cell_type": "code",
   "execution_count": null,
   "id": "287e5e95",
   "metadata": {},
   "outputs": [],
   "source": [
    "result=[]"
   ]
  },
  {
   "cell_type": "code",
   "execution_count": 26,
   "id": "7908bf70",
   "metadata": {},
   "outputs": [
    {
     "data": {
      "text/plain": [
       "array([-3, -4, -5, -6])"
      ]
     },
     "execution_count": 26,
     "metadata": {},
     "output_type": "execute_result"
    }
   ],
   "source": [
    "4-rightlist"
   ]
  },
  {
   "cell_type": "code",
   "execution_count": 24,
   "id": "6a7d9d28",
   "metadata": {},
   "outputs": [
    {
     "data": {
      "text/plain": [
       "array([ 2, -1, -6])"
      ]
     },
     "execution_count": 24,
     "metadata": {},
     "output_type": "execute_result"
    }
   ],
   "source": [
    "3-rightlist"
   ]
  },
  {
   "cell_type": "code",
   "execution_count": 27,
   "id": "9d8d4132",
   "metadata": {},
   "outputs": [],
   "source": [
    "rightlist =np.array( [1,4,9])\n",
    "leftlist=np.array([1,3,6])"
   ]
  },
  {
   "cell_type": "code",
   "execution_count": 26,
   "id": "e7871283",
   "metadata": {},
   "outputs": [],
   "source": [
    "# Python Version\n",
    "def build(s, t, p):\n",
    "    # 对 [s,t] 区间建立线段树,当前根的编号为 p\n",
    "    if s == t:\n",
    "        d[p] = a[s]\n",
    "        return\n",
    "    m = s + ((t - s) >> 1)\n",
    "    # 移位运算符的优先级小于加减法，所以加上括号\n",
    "    # 如果写成 (s + t) >> 1 可能会超出 int 范围\n",
    "    build(s, m, p * 2); build(m + 1, t, p * 2 + 1)\n",
    "    # 递归对左右区间建树\n",
    "    d[p] = d[p * 2] + d[(p * 2) + 1]"
   ]
  },
  {
   "cell_type": "code",
   "execution_count": 41,
   "id": "2036f112",
   "metadata": {},
   "outputs": [],
   "source": [
    "# 线段树的节点类\n",
    "class TreeNode(object):\n",
    "    def __init__(self):\n",
    "        self.left = -1\n",
    "        self.right = -1\n",
    "        self.sum_num = 0\n",
    "\n",
    "    # 打印函数\n",
    "    def __str__(self):\n",
    "        return '[%s,%s,%s]' % (self.left, self.right, self.sum_num)\n",
    "\n",
    "    # 打印函数\n",
    "    def __repr__(self):\n",
    "        return '[%s,%s,%s]' % (self.left, self.right, self.sum_num)\n",
    "\n",
    "\n",
    "# 线段树类\n",
    "# 以_开头的是递归实现\n",
    "class Tree(object):\n",
    "    def __init__(self, n, arr):\n",
    "        self.n = n\n",
    "        self.max_size = 4 * n\n",
    "        self.tree = [TreeNode() for i in range(self.max_size)]  # 维护一个TreeNode数组\n",
    "        self.arr = arr\n",
    "\n",
    "    # index从1开始\n",
    "    def _build(self, index, left, right):\n",
    "        self.tree[index].left = left\n",
    "        self.tree[index].right = right\n",
    "        if left == right:\n",
    "            self.tree[index].sum_num = self.arr[left - 1]\n",
    "        else:\n",
    "            mid = (left + right) // 2\n",
    "            self._build(index * 2, left, mid)\n",
    "            self._build(index * 2 + 1, mid + 1, right)\n",
    "            self.pushup_sum(index)\n",
    "\n",
    "    # 构建线段树\n",
    "    def build(self):\n",
    "        self._build(1, 1, self.n)\n",
    "\n",
    "    def _update(self, point, val, i, l, r, ):\n",
    "        if self.tree[i].left == self.tree[i].right:\n",
    "            self.tree[i].sum_num += val\n",
    "        else:\n",
    "            mid = (l + r) // 2\n",
    "            if point <= mid:\n",
    "                self._update(point, val, i * 2, l, mid)\n",
    "            else:\n",
    "                self._update(point, val, i * 2 + 1, mid + 1, r)\n",
    "                # 根据左右子树更新当前的值\n",
    "            self.pushup_sum(i)\n",
    "\n",
    "    # 单点更新\n",
    "    # point 要更新的数在数组的下标 val更新的值\n",
    "    def update(self, point, val, ):\n",
    "        self._update(point, val, 1, 1, self.n)\n",
    "\n",
    "    # 求和\n",
    "    def pushup_sum(self, k):\n",
    "        self.tree[k].sum_num = self.tree[k * 2].sum_num + self.tree[k * 2 + 1].sum_num\n",
    "\n",
    "    def _query(self, ql, qr, i, l, r, ):\n",
    "        if l >= ql and r <= qr:  # 若当前范围包含于要查询的范围\n",
    "            return self.tree[i].sum_num\n",
    "        else:\n",
    "            mid = (l + r) // 2\n",
    "            res_l = 0\n",
    "            res_r = 0\n",
    "            if ql <= mid:  # 左子树最大的值大于了查询范围最小的值-->左子树和需要查询的区间交集非空\n",
    "                res_l = self._query(ql, qr, i * 2, l, mid, )\n",
    "            if qr > mid:  # 右子树最小的值小于了查询范围最大的值-->右子树和需要查询的区间交集非空\n",
    "                res_r = self._query(ql, qr, i * 2 + 1, mid + 1, r, )\n",
    "            return res_l + res_r\n",
    "\n",
    "    # 区间查询\n",
    "    def query(self, ql, qr):\n",
    "        return self._query(ql, qr, 1, 1, self.n)\n",
    "\n",
    "    # 深度遍历打印数组\n",
    "    def _show_arr(self, i):\n",
    "        if self.tree[i].left == self.tree[i].right and self.tree[i].left != -1:\n",
    "            print(self.tree[i].sum_num, end=\" \")\n",
    "        if 2 * i < len(self.tree):\n",
    "            self._show_arr(i * 2)\n",
    "            self._show_arr(i * 2 + 1)\n",
    "\n",
    "    # 显示更新后的数组的样子\n",
    "    def show_arr(self, ):\n",
    "        self._show_arr(1)\n",
    "\n",
    "# 落谷测试用例1\n",
    "def test():\n",
    "    n = 5  # 1 5 4 2 3\n",
    "    arr = [1, 1, 1, 1, 1]\n",
    "    tree = Tree(n, arr)\n",
    "    tree.build()\n",
    "    tree.update(1, 3)\n",
    "#     res = tree.query(2, 5)\n",
    "#     print(res)\n",
    "#     tree.update(3, -1)\n",
    "#     tree.update(4, 2)\n",
    "    res = tree.query(1, 4)\n",
    "    print(tree.show_arr())\n",
    "    print(res)\n",
    "\n",
    "\n",
    "\n"
   ]
  },
  {
   "cell_type": "code",
   "execution_count": 31,
   "id": "73bf2ebd",
   "metadata": {},
   "outputs": [
    {
     "name": "stdout",
     "output_type": "stream",
     "text": [
      "1 1 1 1\n",
      "1\n",
      "1111\n"
     ]
    }
   ],
   "source": []
  },
  {
   "cell_type": "code",
   "execution_count": 32,
   "id": "06d89bb3",
   "metadata": {},
   "outputs": [],
   "source": [
    "    tree = Tree(n, arr)\n",
    "    tree.build()"
   ]
  },
  {
   "cell_type": "code",
   "execution_count": 42,
   "id": "d3aa46fd",
   "metadata": {},
   "outputs": [
    {
     "name": "stdout",
     "output_type": "stream",
     "text": [
      "4 1 1 1 1 None\n",
      "7\n"
     ]
    }
   ],
   "source": [
    "test()"
   ]
  },
  {
   "cell_type": "code",
   "execution_count": 112,
   "id": "4db41915",
   "metadata": {},
   "outputs": [],
   "source": [
    "\n",
    "def build(arr,tree,node,start,end):\n",
    "    if start==end:\n",
    "        \n",
    "        tree[node]=arr[start]\n",
    "        \n",
    "    else:\n",
    "        mid = int((start+end) /2)\n",
    "        \n",
    "        left_node = 2*node+1\n",
    "        right_node = 2*node+2\n",
    "        build(arr,tree,left_node,start,mid)\n",
    "        build(arr,tree,right_node,mid+1,end)\n",
    "        \n",
    "        tree[node]=tree[left_node]+tree[right_node]\n",
    "        print(tree)\n",
    "    "
   ]
  },
  {
   "cell_type": "code",
   "execution_count": 151,
   "id": "32bce678",
   "metadata": {},
   "outputs": [],
   "source": [
    "d={}\n",
    "s=1\n",
    "t=10\n",
    "p=0\n",
    "\n",
    "# Python Version\n",
    "def build(s, t, p):\n",
    "    # 对 [s,t] 区间建立线段树,当前根的编号为 p\n",
    "    if s == t:\n",
    "        d[p] = a[s]\n",
    "        return\n",
    "    m = s + ((t - s) >> 1)\n",
    "    # 移位运算符的优先级小于加减法，所以加上括号\n",
    "    # 如果写成 (s + t) >> 1 可能会超出 int 范围\n",
    "    build(s, m, p * 2); build(m + 1, t, p * 2 + 1)\n",
    "    # 递归对左右区间建树\n",
    "    d[p] = d[p * 2] + d[(p * 2) + 1]\n",
    "    print(d)"
   ]
  },
  {
   "cell_type": "code",
   "execution_count": 145,
   "id": "40f5a66c",
   "metadata": {},
   "outputs": [],
   "source": [
    "# Python Version\n",
    "def update(l, r, c, s, t, p):\n",
    "    # [l, r] 为修改区间, c 为被修改的元素的变化量, [s, t] 为当前节点包含的区间, p\n",
    "    # 为当前节点的编号\n",
    "    if l <= s and t <= r:\n",
    "        d[p] = d[p] + (t - s + 1) * c\n",
    "        \n",
    "        b[p] = b[p] + c\n",
    "        return\n",
    "    # 当前区间为修改区间的子集时直接修改当前节点的值, 然后打标记, 结束修改\n",
    "    m = s + ((t - s) >> 1)\n",
    "    if b[p] and s != t:\n",
    "        # 如果当前节点的懒标记非空, 则更新当前节点两个子节点的值和懒标记值\n",
    "        d[p * 2] = d[p * 2] + b[p] * (m - s + 1)\n",
    "        d[p * 2 + 1] = d[p * 2 + 1] + b[p] * (t - m)\n",
    "        # 将标记下传给子节点\n",
    "        b[p * 2] = b[p * 2] + b[p]\n",
    "        b[p * 2 + 1] = b[p * 2 + 1] + b[p]\n",
    "        # 清空当前节点的标记\n",
    "        b[p] = 0\n",
    "    if l <= m:\n",
    "        update(l, r, c, s, m, p * 2)\n",
    "    if r > m:\n",
    "        update(l, r, c, m + 1, t, p * 2 + 1)\n",
    "    d[p] = d[p * 2] + d[p * 2 + 1]\n",
    "    print(d)"
   ]
  },
  {
   "cell_type": "code",
   "execution_count": 261,
   "id": "ce0b6ae0",
   "metadata": {},
   "outputs": [
    {
     "name": "stdout",
     "output_type": "stream",
     "text": [
      "[1, 1, 1, 1, 1, 1, 1, 1, 1, 1]\n",
      "{4: 7, 5: 6, 2: 13, 3: 15, 1: 28, 0: 35, 8: 2, 9: 3, 6: 114, 7: 76, 16: 1, 17: 1, 10: 39, 11: 39, 24: 77, 25: 77, 12: 78, 13: 39, 14: 1, 15: 1}\n",
      "{4: 3, 5: 6, 2: 13, 3: 15, 1: 28, 0: 35, 8: 2, 9: 1, 6: 114, 7: 76, 16: 1, 17: 1, 10: 39, 11: 39, 24: 77, 25: 77, 12: 78, 13: 39, 14: 1, 15: 1}\n",
      "{4: 3, 5: 2, 2: 13, 3: 15, 1: 28, 0: 35, 8: 2, 9: 1, 6: 114, 7: 76, 16: 1, 17: 1, 10: 1, 11: 1, 24: 77, 25: 77, 12: 78, 13: 39, 14: 1, 15: 1}\n",
      "{4: 3, 5: 2, 2: 5, 3: 15, 1: 28, 0: 35, 8: 2, 9: 1, 6: 114, 7: 76, 16: 1, 17: 1, 10: 1, 11: 1, 24: 77, 25: 77, 12: 78, 13: 39, 14: 1, 15: 1}\n",
      "{4: 3, 5: 2, 2: 5, 3: 15, 1: 28, 0: 35, 8: 2, 9: 1, 6: 114, 7: 76, 16: 1, 17: 1, 10: 1, 11: 1, 24: 1, 25: 1, 12: 2, 13: 39, 14: 1, 15: 1}\n",
      "{4: 3, 5: 2, 2: 5, 3: 15, 1: 28, 0: 35, 8: 2, 9: 1, 6: 3, 7: 76, 16: 1, 17: 1, 10: 1, 11: 1, 24: 1, 25: 1, 12: 2, 13: 1, 14: 1, 15: 1}\n",
      "{4: 3, 5: 2, 2: 5, 3: 15, 1: 28, 0: 35, 8: 2, 9: 1, 6: 3, 7: 2, 16: 1, 17: 1, 10: 1, 11: 1, 24: 1, 25: 1, 12: 2, 13: 1, 14: 1, 15: 1}\n",
      "{4: 3, 5: 2, 2: 5, 3: 5, 1: 28, 0: 35, 8: 2, 9: 1, 6: 3, 7: 2, 16: 1, 17: 1, 10: 1, 11: 1, 24: 1, 25: 1, 12: 2, 13: 1, 14: 1, 15: 1}\n",
      "{4: 3, 5: 2, 2: 5, 3: 5, 1: 10, 0: 35, 8: 2, 9: 1, 6: 3, 7: 2, 16: 1, 17: 1, 10: 1, 11: 1, 24: 1, 25: 1, 12: 2, 13: 1, 14: 1, 15: 1}\n"
     ]
    },
    {
     "data": {
      "text/plain": [
       "{4: 3,\n",
       " 5: 2,\n",
       " 2: 5,\n",
       " 3: 5,\n",
       " 1: 10,\n",
       " 0: 35,\n",
       " 8: 2,\n",
       " 9: 1,\n",
       " 6: 3,\n",
       " 7: 2,\n",
       " 16: 1,\n",
       " 17: 1,\n",
       " 10: 1,\n",
       " 11: 1,\n",
       " 24: 1,\n",
       " 25: 1,\n",
       " 12: 2,\n",
       " 13: 1,\n",
       " 14: 1,\n",
       " 15: 1}"
      ]
     },
     "execution_count": 261,
     "metadata": {},
     "output_type": "execute_result"
    }
   ],
   "source": [
    "a=[1 for i in range(1,10+1)]\n",
    "print(a)\n",
    "build(0, 9, 1)\n",
    "d"
   ]
  },
  {
   "cell_type": "code",
   "execution_count": 262,
   "id": "dfb3287e",
   "metadata": {},
   "outputs": [],
   "source": [
    "b=[0 for i in d]\n"
   ]
  },
  {
   "cell_type": "code",
   "execution_count": 253,
   "id": "73330ce6",
   "metadata": {},
   "outputs": [
    {
     "name": "stdout",
     "output_type": "stream",
     "text": [
      "{4: 3, 5: 2, 2: 5, 3: 5, 1: 10, 0: 35, 8: 4, 9: 1, 6: 3, 7: 2, 16: 1, 17: 3, 10: 1, 11: 1, 24: 1, 25: 1, 12: 2, 13: 1, 14: 1, 15: 1}\n",
      "{4: 7, 5: 2, 2: 5, 3: 5, 1: 10, 0: 35, 8: 4, 9: 3, 6: 3, 7: 2, 16: 1, 17: 3, 10: 1, 11: 1, 24: 1, 25: 1, 12: 2, 13: 1, 14: 1, 15: 1}\n",
      "{4: 7, 5: 6, 2: 13, 3: 5, 1: 10, 0: 35, 8: 4, 9: 3, 6: 3, 7: 2, 16: 1, 17: 3, 10: 1, 11: 1, 24: 1, 25: 1, 12: 2, 13: 1, 14: 1, 15: 1}\n",
      "{4: 7, 5: 6, 2: 13, 3: 15, 1: 28, 0: 35, 8: 4, 9: 3, 6: 3, 7: 2, 16: 1, 17: 3, 10: 1, 11: 1, 24: 1, 25: 1, 12: 2, 13: 1, 14: 1, 15: 1}\n"
     ]
    },
    {
     "data": {
      "text/plain": [
       "{4: 7,\n",
       " 5: 6,\n",
       " 2: 13,\n",
       " 3: 15,\n",
       " 1: 28,\n",
       " 0: 35,\n",
       " 8: 4,\n",
       " 9: 3,\n",
       " 6: 3,\n",
       " 7: 2,\n",
       " 16: 1,\n",
       " 17: 3,\n",
       " 10: 1,\n",
       " 11: 1,\n",
       " 24: 1,\n",
       " 25: 1,\n",
       " 12: 2,\n",
       " 13: 1,\n",
       " 14: 1,\n",
       " 15: 1}"
      ]
     },
     "execution_count": 253,
     "metadata": {},
     "output_type": "execute_result"
    }
   ],
   "source": [
    "update(1, 9, 2, 0, 9, 1)\n",
    "d"
   ]
  },
  {
   "cell_type": "code",
   "execution_count": 275,
   "id": "782b12c8",
   "metadata": {},
   "outputs": [
    {
     "name": "stdout",
     "output_type": "stream",
     "text": [
      "[1, 1, 1, 1, 1, 1, 1, 1, 1, 1]\n",
      "{4: 5, 5: 6, 2: 11, 3: 13, 1: 24, 0: 35, 8: 2, 9: 3, 6: 9, 7: 4, 16: 1, 17: 1, 10: 7, 11: 7, 24: 1, 25: 1, 12: 2, 13: 1, 14: 3, 15: 1}\n",
      "{4: 3, 5: 6, 2: 11, 3: 13, 1: 24, 0: 35, 8: 2, 9: 1, 6: 9, 7: 4, 16: 1, 17: 1, 10: 7, 11: 7, 24: 1, 25: 1, 12: 2, 13: 1, 14: 3, 15: 1}\n",
      "{4: 3, 5: 2, 2: 11, 3: 13, 1: 24, 0: 35, 8: 2, 9: 1, 6: 9, 7: 4, 16: 1, 17: 1, 10: 1, 11: 1, 24: 1, 25: 1, 12: 2, 13: 1, 14: 3, 15: 1}\n",
      "{4: 3, 5: 2, 2: 5, 3: 13, 1: 24, 0: 35, 8: 2, 9: 1, 6: 9, 7: 4, 16: 1, 17: 1, 10: 1, 11: 1, 24: 1, 25: 1, 12: 2, 13: 1, 14: 3, 15: 1}\n",
      "{4: 3, 5: 2, 2: 5, 3: 13, 1: 24, 0: 35, 8: 2, 9: 1, 6: 9, 7: 4, 16: 1, 17: 1, 10: 1, 11: 1, 24: 1, 25: 1, 12: 2, 13: 1, 14: 3, 15: 1}\n",
      "{4: 3, 5: 2, 2: 5, 3: 13, 1: 24, 0: 35, 8: 2, 9: 1, 6: 3, 7: 4, 16: 1, 17: 1, 10: 1, 11: 1, 24: 1, 25: 1, 12: 2, 13: 1, 14: 3, 15: 1}\n",
      "{4: 3, 5: 2, 2: 5, 3: 13, 1: 24, 0: 35, 8: 2, 9: 1, 6: 3, 7: 2, 16: 1, 17: 1, 10: 1, 11: 1, 24: 1, 25: 1, 12: 2, 13: 1, 14: 1, 15: 1}\n",
      "{4: 3, 5: 2, 2: 5, 3: 5, 1: 24, 0: 35, 8: 2, 9: 1, 6: 3, 7: 2, 16: 1, 17: 1, 10: 1, 11: 1, 24: 1, 25: 1, 12: 2, 13: 1, 14: 1, 15: 1}\n",
      "{4: 3, 5: 2, 2: 5, 3: 5, 1: 10, 0: 35, 8: 2, 9: 1, 6: 3, 7: 2, 16: 1, 17: 1, 10: 1, 11: 1, 24: 1, 25: 1, 12: 2, 13: 1, 14: 1, 15: 1}\n",
      "2\n"
     ]
    }
   ],
   "source": [
    "# Python Version\n",
    "def update(l, r, c, s, t, p):\n",
    "    if l <= s and t <= r:\n",
    "        d[p] = (t - s + 1) * c\n",
    "        b[p] = c\n",
    "        return\n",
    "    m = s + ((t - s) >> 1)\n",
    "    if b[p]:\n",
    "        d[p * 2] = b[p] * (m - s + 1)\n",
    "        d[p * 2 + 1] = b[p] * (t - m)\n",
    "        b[p * 2] = b[p * 2 + 1] = b[p]\n",
    "        b[p] = 0\n",
    "    if l <= m:\n",
    "        update(l, r, c, s, m, p * 2)\n",
    "    if r > m:\n",
    "        update(l, r, c, m + 1, t, p * 2 + 1)\n",
    "    d[p] = d[p * 2] + d[p * 2 + 1]\n",
    "\n",
    "def getsum(l, r, s, t, p):\n",
    "    if l <= s and t <= r:\n",
    "        return d[p]\n",
    "    m = s + ((t - s) >> 1)\n",
    "    if b[p]:\n",
    "        d[p * 2] = b[p] * (m - s + 1)\n",
    "        d[p * 2 + 1] = b[p] * (t - m)\n",
    "        b[p * 2] = b[p * 2 + 1] = b[p]\n",
    "        b[p] = 0\n",
    "    sum = 0\n",
    "    if l <= m:\n",
    "        sum = getsum(l, r, s, m, p * 2)\n",
    "    if r > m:\n",
    "        sum = sum + getsum(l, r, m + 1, t, p * 2 + 1)\n",
    "    return sum\n",
    "a=[1 for i in range(1,10+1)]\n",
    "print(a)\n",
    "build(0, 9, 1)\n",
    "d\n",
    "update(1, 8, 2, 0, 9, 1)\n",
    "update(2, 7, 3, 0, 9, 1)\n",
    "update(3, 6, 3, 0, 9, 1)\n",
    "update(5, 5, 3, 0, 9, 1)\n",
    "d\n",
    "print(getsum(3,3 , 0,9,1))"
   ]
  },
  {
   "cell_type": "code",
   "execution_count": 186,
   "id": "d1b88554",
   "metadata": {},
   "outputs": [
    {
     "data": {
      "text/plain": [
       "7"
      ]
     },
     "execution_count": 186,
     "metadata": {},
     "output_type": "execute_result"
    }
   ],
   "source": [
    "d[1]"
   ]
  },
  {
   "cell_type": "code",
   "execution_count": 115,
   "id": "29cb0098",
   "metadata": {},
   "outputs": [
    {
     "name": "stdout",
     "output_type": "stream",
     "text": [
      "6\n",
      "{7: 1, 8: 3, 3: 4}\n",
      "{7: 1, 8: 3, 3: 4, 4: 5, 1: 9}\n",
      "{7: 1, 8: 3, 3: 4, 4: 5, 1: 9, 11: 7, 12: 9, 5: 16}\n",
      "{7: 1, 8: 3, 3: 4, 4: 5, 1: 9, 11: 7, 12: 9, 5: 16, 6: 11, 2: 27}\n",
      "{7: 1, 8: 3, 3: 4, 4: 5, 1: 9, 11: 7, 12: 9, 5: 16, 6: 11, 2: 27, 0: 36}\n"
     ]
    }
   ],
   "source": [
    "arr=1,3,5,7,9,11#[1 for i in range(1,10+1)];\n",
    "\n",
    "size = len(arr)\n",
    "print(size)\n",
    "tree={};\n",
    "build(arr,tree,0,0,size-1);"
   ]
  },
  {
   "cell_type": "code",
   "execution_count": null,
   "id": "39075b98",
   "metadata": {},
   "outputs": [],
   "source": []
  },
  {
   "cell_type": "code",
   "execution_count": 114,
   "id": "4d719ea3",
   "metadata": {},
   "outputs": [
    {
     "name": "stdout",
     "output_type": "stream",
     "text": [
      "15\n",
      "16\n",
      "7\n",
      "8\n",
      "3\n",
      "9\n",
      "10\n",
      "4\n",
      "1\n",
      "23\n",
      "24\n",
      "11\n",
      "12\n",
      "5\n",
      "13\n",
      "14\n",
      "6\n",
      "2\n",
      "0\n"
     ]
    }
   ],
   "source": [
    "for i,j in tree.m:\n",
    "    print(i)"
   ]
  },
  {
   "cell_type": "code",
   "execution_count": null,
   "id": "513110de",
   "metadata": {},
   "outputs": [],
   "source": []
  },
  {
   "cell_type": "code",
   "execution_count": null,
   "id": "43b9a504",
   "metadata": {},
   "outputs": [],
   "source": []
  },
  {
   "cell_type": "code",
   "execution_count": null,
   "id": "2021a42f",
   "metadata": {},
   "outputs": [],
   "source": []
  },
  {
   "cell_type": "code",
   "execution_count": null,
   "id": "c473826a",
   "metadata": {},
   "outputs": [],
   "source": []
  },
  {
   "cell_type": "code",
   "execution_count": null,
   "id": "8e294be1",
   "metadata": {},
   "outputs": [],
   "source": []
  },
  {
   "cell_type": "code",
   "execution_count": null,
   "id": "e337369b",
   "metadata": {},
   "outputs": [],
   "source": []
  },
  {
   "cell_type": "code",
   "execution_count": null,
   "id": "5d053566",
   "metadata": {},
   "outputs": [],
   "source": []
  },
  {
   "cell_type": "code",
   "execution_count": null,
   "id": "305e9ae3",
   "metadata": {},
   "outputs": [],
   "source": []
  },
  {
   "cell_type": "code",
   "execution_count": null,
   "id": "76557d2d",
   "metadata": {},
   "outputs": [],
   "source": []
  }
 ],
 "metadata": {
  "kernelspec": {
   "display_name": "Python 3.7.1 64-bit ('base': conda)",
   "language": "python",
   "name": "python37164bitbaseconda78095b79c64a40c2938649da3e760910"
  },
  "language_info": {
   "codemirror_mode": {
    "name": "ipython",
    "version": 3
   },
   "file_extension": ".py",
   "mimetype": "text/x-python",
   "name": "python",
   "nbconvert_exporter": "python",
   "pygments_lexer": "ipython3",
   "version": "3.7.6"
  }
 },
 "nbformat": 4,
 "nbformat_minor": 5
}
